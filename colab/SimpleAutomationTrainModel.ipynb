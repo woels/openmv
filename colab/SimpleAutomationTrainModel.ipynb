{
  "cells": [
    {
      "cell_type": "markdown",
      "metadata": {
        "id": "view-in-github",
        "colab_type": "text"
      },
      "source": [
        "<a href=\"https://colab.research.google.com/github/woels/openmv/blob/master/colab/SimpleAutomationTrainModel.ipynb\" target=\"_parent\"><img src=\"https://colab.research.google.com/assets/colab-badge.svg\" alt=\"Open In Colab\"/></a>"
      ]
    },
    {
      "cell_type": "code",
      "execution_count": null,
      "metadata": {
        "id": "cX-BT9Wte6tV"
      },
      "outputs": [],
      "source": [
        "hugging_face_token = ''\n",
        "dataset_repo_id = 'test/test-dataset'\n",
        "model_repo_id = 'test/test-model'\n"
      ]
    },
    {
      "cell_type": "code",
      "execution_count": null,
      "metadata": {
        "id": "bV6yVHzTq-dt"
      },
      "outputs": [],
      "source": [
        "!git clone https://github.com/huggingface/lerobot.git\n",
        "!cd lerobot && pip install -e . --ignore-installed"
      ]
    },
    {
      "cell_type": "code",
      "execution_count": null,
      "metadata": {
        "id": "4vccJQqd_afv"
      },
      "outputs": [],
      "source": [
        "!pip install huggingface-hub\n",
        "!huggingface-cli login --token {hugging_face_token} --add-to-git-credential"
      ]
    },
    {
      "cell_type": "code",
      "execution_count": null,
      "metadata": {
        "id": "EN9GQ7AurBFo"
      },
      "outputs": [],
      "source": [
        "!cd lerobot && python lerobot/scripts/train.py \\\n",
        "  dataset_repo_id={dataset_repo_id} \\\n",
        "  policy=act_koch_real \\\n",
        "  env=koch_real \\\n",
        "  hydra.run.dir=outputs/train/mymodel \\\n",
        "  hydra.job.name=mymodel \\\n",
        "  device=cuda \\\n",
        "  wandb.enable=false\n",
        "\n",
        "\n",
        "!huggingface-cli upload {model_repo_id} lerobot/outputs/train/mymodel/checkpoints/last/pretrained_model\n",
        "\n",
        "from google.colab import runtime\n",
        "runtime.unassign()"
      ]
    }
  ],
  "metadata": {
    "accelerator": "GPU",
    "colab": {
      "gpuType": "A100",
      "machine_shape": "hm",
      "provenance": [],
      "include_colab_link": true
    },
    "kernelspec": {
      "display_name": "Python 3",
      "name": "python3"
    },
    "language_info": {
      "name": "python"
    }
  },
  "nbformat": 4,
  "nbformat_minor": 0
}